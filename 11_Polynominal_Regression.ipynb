{
  "nbformat": 4,
  "nbformat_minor": 0,
  "metadata": {
    "colab": {
      "provenance": [],
      "authorship_tag": "ABX9TyMFicw5h6yo4pvi5JK/vtHQ",
      "include_colab_link": true
    },
    "kernelspec": {
      "name": "python3",
      "display_name": "Python 3"
    },
    "language_info": {
      "name": "python"
    }
  },
  "cells": [
    {
      "cell_type": "markdown",
      "metadata": {
        "id": "view-in-github",
        "colab_type": "text"
      },
      "source": [
        "<a href=\"https://colab.research.google.com/github/AroteRoshan/AI-ml-Data-analytics/blob/main/11_Polynominal_Regression.ipynb\" target=\"_parent\"><img src=\"https://colab.research.google.com/assets/colab-badge.svg\" alt=\"Open In Colab\"/></a>"
      ]
    },
    {
      "cell_type": "code",
      "execution_count": 2,
      "metadata": {
        "id": "CB5L2nDBUwEQ"
      },
      "outputs": [],
      "source": [
        "import pandas as pd\n",
        "import numpy as np\n",
        "import matplotlib.pyplot as plt\n"
      ]
    },
    {
      "cell_type": "markdown",
      "source": [
        "####Linear Equation"
      ],
      "metadata": {
        "id": "W4lJkVELVGVR"
      }
    },
    {
      "cell_type": "code",
      "source": [
        "x= np.arange(0,10,0.25)"
      ],
      "metadata": {
        "id": "-xhLdkCjVLxp"
      },
      "execution_count": 3,
      "outputs": []
    },
    {
      "cell_type": "code",
      "source": [
        "x"
      ],
      "metadata": {
        "colab": {
          "base_uri": "https://localhost:8080/"
        },
        "id": "bh86h2GfVXhA",
        "outputId": "8211d426-cbed-46ca-8755-43729ed5eccc"
      },
      "execution_count": 4,
      "outputs": [
        {
          "output_type": "execute_result",
          "data": {
            "text/plain": [
              "array([0.  , 0.25, 0.5 , 0.75, 1.  , 1.25, 1.5 , 1.75, 2.  , 2.25, 2.5 ,\n",
              "       2.75, 3.  , 3.25, 3.5 , 3.75, 4.  , 4.25, 4.5 , 4.75, 5.  , 5.25,\n",
              "       5.5 , 5.75, 6.  , 6.25, 6.5 , 6.75, 7.  , 7.25, 7.5 , 7.75, 8.  ,\n",
              "       8.25, 8.5 , 8.75, 9.  , 9.25, 9.5 , 9.75])"
            ]
          },
          "metadata": {},
          "execution_count": 4
        }
      ]
    },
    {
      "cell_type": "code",
      "source": [
        "y= x*4.23 +36.07"
      ],
      "metadata": {
        "id": "10_D9WEzVb4A"
      },
      "execution_count": 5,
      "outputs": []
    },
    {
      "cell_type": "markdown",
      "source": [
        "####polynominal Equation"
      ],
      "metadata": {
        "id": "1hK4uj8oViTq"
      }
    },
    {
      "cell_type": "code",
      "source": [
        "y = x **2 *4.23+36.07\n"
      ],
      "metadata": {
        "id": "Gk48JOEXWHyn"
      },
      "execution_count": 6,
      "outputs": []
    },
    {
      "cell_type": "markdown",
      "source": [
        "#### logarithimic Equation"
      ],
      "metadata": {
        "id": "8P4OUfe0WalV"
      }
    },
    {
      "cell_type": "code",
      "source": [
        "plt.plot(x, np.log(x))"
      ],
      "metadata": {
        "colab": {
          "base_uri": "https://localhost:8080/",
          "height": 485
        },
        "id": "ts8H_zR1WqQV",
        "outputId": "261594c0-f2fe-4756-c82e-2513a48579c1"
      },
      "execution_count": 7,
      "outputs": [
        {
          "output_type": "stream",
          "name": "stderr",
          "text": [
            "<ipython-input-7-78220226c74f>:1: RuntimeWarning: divide by zero encountered in log\n",
            "  plt.plot(x, np.log(x))\n"
          ]
        },
        {
          "output_type": "execute_result",
          "data": {
            "text/plain": [
              "[<matplotlib.lines.Line2D at 0x7bf9fb9ddae0>]"
            ]
          },
          "metadata": {},
          "execution_count": 7
        },
        {
          "output_type": "display_data",
          "data": {
            "text/plain": [
              "<Figure size 640x480 with 1 Axes>"
            ],
            "image/png": "[encoded data removed]"
          },
          "metadata": {}
        }
      ]
    },
    {
      "cell_type": "code",
      "source": [],
      "metadata": {
        "id": "DCWxbnQOWxEP"
      },
      "execution_count": 7,
      "outputs": []
    }
  ]
}